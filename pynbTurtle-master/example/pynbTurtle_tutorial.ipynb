{
 "cells": [
  {
   "cell_type": "markdown",
   "id": "09b1f75a",
   "metadata": {},
   "source": [
    "# pynbTurtle Tutorial\n",
    "\n",
    "Dieses Notebook zeigt die grundlegende Nutzung des bereits installierten `pynbTurtle`-Pakets in Jupyter."
   ]
  },
  {
   "cell_type": "markdown",
   "id": "8c9e1b0d",
   "metadata": {},
   "source": [
    "## 1. Erzeugen einer Turtle-Instanz\n",
    "Als erstes muss das Paket in einem Jupyter Notebook geladen werden. Mit `t = Turtle()` wird eine neue Turtle-Instanz erzeugt. So wird unmittelbar unterhalb der Notebook-Zelle der Zeichen-Canvas erzeugt."
   ]
  },
  {
   "cell_type": "code",
   "execution_count": null,
   "id": "ef892f06",
   "metadata": {},
   "outputs": [],
   "source": [
    "from pynbTurtle import Turtle\n",
    "\n",
    "# Erzeugt eine neue Turtle-Instanz\n",
    "t = Turtle()"
   ]
  },
  {
   "cell_type": "markdown",
   "id": "a8284901",
   "metadata": {},
   "source": [
    "## 2. Einfache Zeichenbefehle\n",
    "\n",
    "Hier ein Beispiel, wie man mit `forward` und `left` zeichnet."
   ]
  },
  {
   "cell_type": "code",
   "execution_count": null,
   "id": "244a7c70",
   "metadata": {},
   "outputs": [],
   "source": [
    "from pynbTurtle import Turtle\n",
    "\n",
    "t = Turtle()\n",
    "t.forward(100)\n",
    "t.left(90)\n",
    "t.forward(100)\n",
    "t.left(90)\n",
    "t.forward(100)\n",
    "t.left(90)\n",
    "t.forward(100)"
   ]
  },
  {
   "cell_type": "markdown",
   "id": "f4e4d8a8",
   "metadata": {},
   "source": [
    "**Auftrag:** \n",
    "\n",
    "Ändere und ergänze den Code mit den Befehlen `backward(s)`, `right(d)`, `penup()` und `pendown()`. Beobachte was passiert."
   ]
  },
  {
   "cell_type": "markdown",
   "id": "b033829f",
   "metadata": {},
   "source": [
    "## 3. Die Turtle verlässt den Bereich\n",
    "\n",
    "Beobachte was passiert, wenn der Code unten ausgeführt wird."
   ]
  },
  {
   "cell_type": "code",
   "execution_count": null,
   "id": "0fb4b591",
   "metadata": {},
   "outputs": [],
   "source": [
    "from pynbTurtle import Turtle\n",
    "\n",
    "t = Turtle()\n",
    "t.forward(300)\n",
    "t.backward(150)\n",
    "t.right(90)\n",
    "t.forward(100)\n",
    "t.left(90)\n",
    "t.forward(150)\n",
    "t.backward(300)\n",
    "t.setposition(350,200)\n",
    "t.forward(300)"
   ]
  },
  {
   "cell_type": "markdown",
   "id": "01a47bb3",
   "metadata": {},
   "source": [
    "**Auftrag:**\n",
    "\n",
    "1. Was macht der Befehl `t.setposition(350,200)`?\n",
    "2. Wie ist das Koordinatensystem gelegt?\n",
    "3. Spiele mit den Buttons oberhalb herum. Was bewirken Sie? Mache das gezeichnete Bild möglichst gross und setze es in die Mitte.\n",
    "4. Zeichne etwas eigenes, dass nicht im dargestellten Bereich Platz hat. Setze die Zeichnung ins Zentrum und exportiere das Bild."
   ]
  },
  {
   "cell_type": "markdown",
   "id": "add50d0b",
   "metadata": {},
   "source": [
    "## 4. Farbige Bilder\n",
    "\n",
    "Die Turtle kann nicht nur schwarz zeichnen. Mit `t.pencolor('color')` kann die Stiftfarbe geändert werden. Für `'color'` können direkt Farben in englisch gesetzt werden. Beachte, dass der Text in `' '` stehen muss."
   ]
  },
  {
   "cell_type": "code",
   "execution_count": null,
   "id": "b12782d5",
   "metadata": {},
   "outputs": [],
   "source": [
    "from pynbTurtle import Turtle\n",
    "\n",
    "t = Turtle()\n",
    "t.forward(100)\n",
    "t.left(90)\n",
    "t.pencolor('red')\n",
    "t.forward(100)\n",
    "t.left(90)\n",
    "t.forward(100)\n",
    "t.left(90)\n",
    "t.forward(100)"
   ]
  },
  {
   "cell_type": "markdown",
   "id": "5c1bd0ea",
   "metadata": {},
   "source": [
    "**Auftrag:**\n",
    "\n",
    "Versuche weitere Farben aus, in dem das Quadrat auf jeder Seite eine andere Farbe hat."
   ]
  },
  {
   "cell_type": "markdown",
   "id": "bc709a20",
   "metadata": {},
   "source": [
    "## 5. Anpassung der Geschwindigkeit und Abbruch\n",
    "\n",
    "Gerade bei langen Zeichnung ist es angehm, wenn die Turtle schneller zeichnet. Dazu kann der Befehl `t.speed(v)` verwendet werden. Dabei muss für `v` ein ganzzahliger Wert zwischen 1 und 10 eingesetzt werden. Wenn es doch zu lange dauert und man nicht warten möchte kann man das Zeichnen auch abbrechen. Dazu steht der Reset-Button zur Verfügung."
   ]
  },
  {
   "cell_type": "code",
   "execution_count": null,
   "id": "24f8865f",
   "metadata": {},
   "outputs": [],
   "source": [
    "from pynbTurtle import Turtle\n",
    "\n",
    "t = Turtle()\n",
    "t.speed(10)\n",
    "for i in range(12):\n",
    "    for i in range(360):\n",
    "        t.forward(1)\n",
    "        t.right(1)\n",
    "    t.right(30)"
   ]
  },
  {
   "cell_type": "markdown",
   "id": "622fc823",
   "metadata": {},
   "source": [
    "**Auftrag:**\n",
    "\n",
    "Versuche verschieden Eingaben bei `t.speed(v)`. Beobachte was passiert. Falls es zu lange dauert kannst du das Zeichnen auch mit dem Reset-Button abbrechen."
   ]
  },
  {
   "cell_type": "markdown",
   "id": "18b9f1ad",
   "metadata": {},
   "source": [
    "## 6. Die Ausführung des Codes beobachten\n",
    "\n",
    "Wenn der `showcode()` eingefügt wird, dann wird neben der Zeichnung auch der gesamte Code der Zelle dargestellt. Es wird jeweils die Zeile markiert, welche gerade von der Turtle ausgeführt wird. Beobachte was passiert."
   ]
  },
  {
   "cell_type": "code",
   "execution_count": null,
   "id": "2b41b7b0",
   "metadata": {},
   "outputs": [],
   "source": [
    "from pynbTurtle import Turtle\n",
    "\n",
    "def quadrat():\n",
    "    for i in range(4):\n",
    "        t.forward(20)\n",
    "        t.right(90)\n",
    "\n",
    "def zeile9():\n",
    "    for i in range(9):\n",
    "        quadrat()\n",
    "        t.forward(20)\n",
    "    t.backward(9*20)\n",
    "\n",
    "def gitter6x9():\n",
    "    for i in range(6):\n",
    "        zeile9()\n",
    "        t.right(90)\n",
    "        t.forward(20)\n",
    "        t.left(90)\n",
    "\n",
    "\n",
    "t=Turtle()\n",
    "t.speed(10)\n",
    "t.showcode()\n",
    "gitter6x9()"
   ]
  },
  {
   "cell_type": "markdown",
   "id": "aefe10e3",
   "metadata": {},
   "source": [
    "**Auftrag:**\n",
    "\n",
    "1. Erkläre in Worten was genau passiert, wenn du die rechte Seite beobachtest.\n",
    "2. Überprüfe ob der gesamte Code dargestellt wurde.\n",
    "3. Bei `t.showcode()` lässt sich auch `'play'` oder `'pause'` in die Klammer einsetzen. Beobachte was passiert!\n",
    "4. Was bewirken die Buttons oberhalb des Codes?\n",
    "5. Beobachte was passiert, wenn du die Code-Zelle unterhalb des Auftrags ausführst."
   ]
  },
  {
   "cell_type": "code",
   "execution_count": null,
   "id": "c7dd757b",
   "metadata": {},
   "outputs": [],
   "source": [
    "gitter6x9()"
   ]
  }
 ],
 "metadata": {
  "kernelspec": {
   "display_name": "Python 3",
   "language": "python",
   "name": "python3"
  },
  "language_info": {
   "codemirror_mode": {
    "name": "ipython",
    "version": 3
   },
   "file_extension": ".py",
   "mimetype": "text/x-python",
   "name": "python",
   "nbconvert_exporter": "python",
   "pygments_lexer": "ipython3",
   "version": "3.13.3"
  }
 },
 "nbformat": 4,
 "nbformat_minor": 5
}
